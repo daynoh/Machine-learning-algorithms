{
 "cells": [
  {
   "cell_type": "markdown",
   "metadata": {},
   "source": [
    "## Random forest"
   ]
  },
  {
   "cell_type": "code",
   "execution_count": 1,
   "metadata": {},
   "outputs": [],
   "source": [
    "# # most accurate learning algorithm\n",
    "# Works on both classification and regression problems\n",
    "# Works on very large datasets \n",
    "# Requires almost no input preparation( Removes missing values )\n",
    "# performs implicit feature selection\n",
    "# has methods for balancing error in unbalanced data sets \n",
    "\n",
    "\n"
   ]
  },
  {
   "cell_type": "markdown",
   "metadata": {},
   "source": [
    "## K-nearest Neighbour"
   ]
  },
  {
   "cell_type": "code",
   "execution_count": 43,
   "metadata": {},
   "outputs": [
    {
     "data": {
      "text/html": [
       "<div>\n",
       "<style scoped>\n",
       "    .dataframe tbody tr th:only-of-type {\n",
       "        vertical-align: middle;\n",
       "    }\n",
       "\n",
       "    .dataframe tbody tr th {\n",
       "        vertical-align: top;\n",
       "    }\n",
       "\n",
       "    .dataframe thead th {\n",
       "        text-align: right;\n",
       "    }\n",
       "</style>\n",
       "<table border=\"1\" class=\"dataframe\">\n",
       "  <thead>\n",
       "    <tr style=\"text-align: right;\">\n",
       "      <th></th>\n",
       "      <th>5.1</th>\n",
       "      <th>3.5</th>\n",
       "      <th>1.4</th>\n",
       "      <th>0.2</th>\n",
       "      <th>Iris-setosa</th>\n",
       "    </tr>\n",
       "  </thead>\n",
       "  <tbody>\n",
       "    <tr>\n",
       "      <td>0</td>\n",
       "      <td>4.9</td>\n",
       "      <td>3.0</td>\n",
       "      <td>1.4</td>\n",
       "      <td>0.2</td>\n",
       "      <td>Iris-setosa</td>\n",
       "    </tr>\n",
       "    <tr>\n",
       "      <td>1</td>\n",
       "      <td>4.7</td>\n",
       "      <td>3.2</td>\n",
       "      <td>1.3</td>\n",
       "      <td>0.2</td>\n",
       "      <td>Iris-setosa</td>\n",
       "    </tr>\n",
       "    <tr>\n",
       "      <td>2</td>\n",
       "      <td>4.6</td>\n",
       "      <td>3.1</td>\n",
       "      <td>1.5</td>\n",
       "      <td>0.2</td>\n",
       "      <td>Iris-setosa</td>\n",
       "    </tr>\n",
       "    <tr>\n",
       "      <td>3</td>\n",
       "      <td>5.0</td>\n",
       "      <td>3.6</td>\n",
       "      <td>1.4</td>\n",
       "      <td>0.2</td>\n",
       "      <td>Iris-setosa</td>\n",
       "    </tr>\n",
       "    <tr>\n",
       "      <td>4</td>\n",
       "      <td>5.4</td>\n",
       "      <td>3.9</td>\n",
       "      <td>1.7</td>\n",
       "      <td>0.4</td>\n",
       "      <td>Iris-setosa</td>\n",
       "    </tr>\n",
       "  </tbody>\n",
       "</table>\n",
       "</div>"
      ],
      "text/plain": [
       "   5.1  3.5  1.4  0.2  Iris-setosa\n",
       "0  4.9  3.0  1.4  0.2  Iris-setosa\n",
       "1  4.7  3.2  1.3  0.2  Iris-setosa\n",
       "2  4.6  3.1  1.5  0.2  Iris-setosa\n",
       "3  5.0  3.6  1.4  0.2  Iris-setosa\n",
       "4  5.4  3.9  1.7  0.4  Iris-setosa"
      ]
     },
     "execution_count": 43,
     "metadata": {},
     "output_type": "execute_result"
    }
   ],
   "source": [
    " # used when objects has similarities\n",
    "# used cases - Recommender systems\n",
    "# also known as lazy learner it doesnt have a learning phase and prediction is done \n",
    "# building from scratch\n",
    "# step 1- handle data import\n",
    "# calculate the euclidean distance between two instances\n",
    "# locate the k most similar data instances\n",
    "# generate response from a set of data instance\n",
    "# find accuracy of your models\n",
    "import pandas as pd\n",
    "\n",
    "iris = pd.read_csv('C:\\\\Users\\\\Musingila\\\\Desktop\\\\datasets\\\\IRIS.csv')\n",
    "iris.head()\n",
    "\n",
    "\n"
   ]
  },
  {
   "cell_type": "code",
   "execution_count": 2,
   "metadata": {},
   "outputs": [],
   "source": [
    " "
   ]
  },
  {
   "cell_type": "code",
   "execution_count": 71,
   "metadata": {},
   "outputs": [],
   "source": [
    "import csv\n",
    "import random\n",
    "\n",
    "def loadDataset(filename,split,trainingSet=[], testSet=[]):\n",
    "    with open(filename, 'r') as csvfile:\n",
    "        lines = csv.reader(csvfile)\n",
    "        dataset = list(lines)\n",
    "        for x in range(len(dataset)-1):\n",
    "            for y in range(4):\n",
    "                dataset[x][y]=float(dataset[x][y])\n",
    "            if random.random() < split:\n",
    "                trainingSet.append(dataset[x])\n",
    "            else:\n",
    "                testSet.append(dataset[x])\n",
    "            "
   ]
  },
  {
   "cell_type": "code",
   "execution_count": 72,
   "metadata": {},
   "outputs": [
    {
     "name": "stdout",
     "output_type": "stream",
     "text": [
      "Train: 96\n",
      "Test: 53\n"
     ]
    }
   ],
   "source": [
    "filename='C:\\\\Users\\\\Musingila\\\\Desktop\\\\datasets\\\\IRIS.csv'\n",
    "trainingset = []\n",
    "testset = []\n",
    "loadDataset(filename,0.66,trainingset, testset)\n",
    "print('Train: ' + repr(len(trainingset)))\n",
    "print('Test: ' + repr(len(testset)))"
   ]
  },
  {
   "cell_type": "code",
   "execution_count": 46,
   "metadata": {},
   "outputs": [
    {
     "name": "stdout",
     "output_type": "stream",
     "text": [
      "Distance:3.4641016151377544\n"
     ]
    }
   ],
   "source": [
    "#calculating similarity\n",
    "import math\n",
    "def EuclideanDistance(instance1, instance2, length):\n",
    "    distance = 0\n",
    "    for x in range(length):\n",
    "        distance += pow(instance1[x]-instance2[x],2)\n",
    "    return math.sqrt(distance)\n",
    "#instance1 and 2 are the two points you want to test distance\n",
    "# quick demo\n",
    "data1 = [2,2,2,'a']\n",
    "data2 = [4,4,4,'b']\n",
    "distance = EuclideanDistance(data1,data2,3)\n",
    "print('Distance:' + repr(distance))"
   ]
  },
  {
   "cell_type": "code",
   "execution_count": 47,
   "metadata": {},
   "outputs": [
    {
     "name": "stdout",
     "output_type": "stream",
     "text": [
      "[[4, 4, 4, 3, 'b'], [2, 2, 2, 3, 'a']]\n"
     ]
    }
   ],
   "source": [
    "import operator\n",
    "def getNeighbors(trainingSet, testInstance,k):\n",
    "    distance = []\n",
    "    length = len(testInstance)-1\n",
    "    for x in range(len(trainingSet)):\n",
    "        dist = EuclideanDistance(testInstance, trainingSet[x],length)\n",
    "        distance.append((trainingSet[x],dist))\n",
    "    distance.sort(key=operator.itemgetter(1))\n",
    "    neighbors = []\n",
    "    for x in range(k):\n",
    "        neighbors.append(distance[x][0])\n",
    "    return neighbors\n",
    "\n",
    "# dem0\n",
    "\n",
    "trainingSet = [[2,2,2,3,'a'],[4,4,4,3,'b']]\n",
    "testInstance = [5,5,5,5,'a']\n",
    "k = 2\n",
    "neighbors = getNeighbors(trainingSet,testInstance,k)\n",
    "print(neighbors)"
   ]
  },
  {
   "cell_type": "code",
   "execution_count": 48,
   "metadata": {},
   "outputs": [
    {
     "name": "stdout",
     "output_type": "stream",
     "text": [
      "a\n"
     ]
    }
   ],
   "source": [
    "import operator\n",
    "def getResponse(neighbors):\n",
    "    classVotes = {}\n",
    "    for x in range(len(neighbors)):\n",
    "        response = neighbors[x][-1]\n",
    "        if response in classVotes:\n",
    "            classVotes[response] += 1\n",
    "        else: \n",
    "            classVotes[response] = 1\n",
    "    sortedVotes = sorted(classVotes.items(), key = operator.itemgetter(1),reverse=True)\n",
    "    return sortedVotes[0][0]\n",
    "# demo\n",
    "neighbors = [[1,1,1,'a'],[2,2,2,'a'],[3,3,3,'b']]\n",
    "print(getResponse(neighbors))\n",
    " \n",
    "    "
   ]
  },
  {
   "cell_type": "code",
   "execution_count": 49,
   "metadata": {},
   "outputs": [
    {
     "name": "stdout",
     "output_type": "stream",
     "text": [
      "66.66666666666666\n"
     ]
    }
   ],
   "source": [
    "def getAccuracy(testSet, predictions):\n",
    "    correct = 0 \n",
    "    for x in range (len(testSet)):\n",
    "        if testSet[x][-1] is predictions[x]:\n",
    "            correct +=1 \n",
    "    return (correct/float(len(testSet))) * 100.0\n",
    "# demo \n",
    "testSet = [[1,1,1,'a'],[2,2,2,'a'],[3,3,3,'c']]\n",
    "predictions = ['a','a','a']\n",
    "accuracy = getAccuracy(testSet,predictions)\n",
    "print(accuracy)"
   ]
  },
  {
   "cell_type": "code",
   "execution_count": 51,
   "metadata": {},
   "outputs": [
    {
     "name": "stdout",
     "output_type": "stream",
     "text": [
      "Train: 302\n",
      "Test: 52\n",
      "> predicted = 'Iris-setosa', actual= 'Iris-setosa'\n",
      "> predicted = 'Iris-setosa', actual= 'Iris-setosa'\n",
      "> predicted = 'Iris-setosa', actual= 'Iris-setosa'\n",
      "> predicted = 'Iris-setosa', actual= 'Iris-setosa'\n",
      "> predicted = 'Iris-setosa', actual= 'Iris-setosa'\n",
      "> predicted = 'Iris-setosa', actual= 'Iris-setosa'\n",
      "> predicted = 'Iris-setosa', actual= 'Iris-setosa'\n",
      "> predicted = 'Iris-setosa', actual= 'Iris-setosa'\n",
      "> predicted = 'Iris-setosa', actual= 'Iris-setosa'\n",
      "> predicted = 'Iris-setosa', actual= 'Iris-setosa'\n",
      "> predicted = 'Iris-setosa', actual= 'Iris-setosa'\n",
      "> predicted = 'Iris-setosa', actual= 'Iris-setosa'\n",
      "> predicted = 'Iris-setosa', actual= 'Iris-setosa'\n",
      "> predicted = 'Iris-setosa', actual= 'Iris-setosa'\n",
      "> predicted = 'Iris-setosa', actual= 'Iris-setosa'\n",
      "> predicted = 'Iris-setosa', actual= 'Iris-setosa'\n",
      "> predicted = 'Iris-setosa', actual= 'Iris-setosa'\n",
      "> predicted = 'Iris-versicolor', actual= 'Iris-versicolor'\n",
      "> predicted = 'Iris-versicolor', actual= 'Iris-versicolor'\n",
      "> predicted = 'Iris-versicolor', actual= 'Iris-versicolor'\n",
      "> predicted = 'Iris-versicolor', actual= 'Iris-versicolor'\n",
      "> predicted = 'Iris-versicolor', actual= 'Iris-versicolor'\n",
      "> predicted = 'Iris-versicolor', actual= 'Iris-versicolor'\n",
      "> predicted = 'Iris-versicolor', actual= 'Iris-versicolor'\n",
      "> predicted = 'Iris-versicolor', actual= 'Iris-versicolor'\n",
      "> predicted = 'Iris-versicolor', actual= 'Iris-versicolor'\n",
      "> predicted = 'Iris-versicolor', actual= 'Iris-versicolor'\n",
      "> predicted = 'Iris-versicolor', actual= 'Iris-versicolor'\n",
      "> predicted = 'Iris-versicolor', actual= 'Iris-versicolor'\n",
      "> predicted = 'Iris-versicolor', actual= 'Iris-versicolor'\n",
      "> predicted = 'Iris-versicolor', actual= 'Iris-versicolor'\n",
      "> predicted = 'Iris-versicolor', actual= 'Iris-versicolor'\n",
      "> predicted = 'Iris-versicolor', actual= 'Iris-versicolor'\n",
      "> predicted = 'Iris-versicolor', actual= 'Iris-versicolor'\n",
      "> predicted = 'Iris-versicolor', actual= 'Iris-versicolor'\n",
      "> predicted = 'Iris-versicolor', actual= 'Iris-versicolor'\n",
      "> predicted = 'Iris-virginica', actual= 'Iris-virginica'\n",
      "> predicted = 'Iris-virginica', actual= 'Iris-virginica'\n",
      "> predicted = 'Iris-virginica', actual= 'Iris-virginica'\n",
      "> predicted = 'Iris-virginica', actual= 'Iris-virginica'\n",
      "> predicted = 'Iris-virginica', actual= 'Iris-virginica'\n",
      "> predicted = 'Iris-virginica', actual= 'Iris-virginica'\n",
      "> predicted = 'Iris-virginica', actual= 'Iris-virginica'\n",
      "> predicted = 'Iris-virginica', actual= 'Iris-virginica'\n",
      "> predicted = 'Iris-virginica', actual= 'Iris-virginica'\n",
      "> predicted = 'Iris-virginica', actual= 'Iris-virginica'\n",
      "> predicted = 'Iris-virginica', actual= 'Iris-virginica'\n",
      "> predicted = 'Iris-virginica', actual= 'Iris-virginica'\n",
      "> predicted = 'Iris-virginica', actual= 'Iris-virginica'\n",
      "> predicted = 'Iris-virginica', actual= 'Iris-virginica'\n",
      "> predicted = 'Iris-virginica', actual= 'Iris-virginica'\n",
      "> predicted = 'Iris-virginica', actual= 'Iris-virginica'\n",
      "Accuracy: 0.0%\n"
     ]
    }
   ],
   "source": [
    "#defining the main function\n",
    "def main():\n",
    "    # preparing data\n",
    "    trainingSet = []\n",
    "    testSet = []\n",
    "    split = 0.67\n",
    "    filename='C:\\\\Users\\\\Musingila\\\\Desktop\\\\datasets\\\\IRIS.csv'\n",
    "    loadDataset(filename,split,trainingset, testSet)\n",
    "    print('Train: ' + repr(len(trainingset)))\n",
    "    print('Test: ' + repr(len(testSet)))\n",
    "    \n",
    "    # Generate predictions\n",
    "    predictions= []\n",
    "    k = 2\n",
    "    for x in range(len(testSet)):\n",
    "        #print(testSet[x])\n",
    "        #print(trainingset[x])\n",
    "        neighbors = getNeighbors(trainingset, testSet[x],k)\n",
    "        result = getResponse(neighbors)\n",
    "        predictions.append(result)\n",
    "        print('> predicted = '+ repr(result) + ', actual= '+ repr(testSet[x][-1]))\n",
    "    accuracy = getAccuracy(testSet,predictions)\n",
    "    print('Accuracy: ' + repr(accuracy) + \"%\")\n",
    "main()"
   ]
  },
  {
   "cell_type": "code",
   "execution_count": null,
   "metadata": {},
   "outputs": [],
   "source": []
  }
 ],
 "metadata": {
  "kernelspec": {
   "display_name": "Python 3",
   "language": "python",
   "name": "python3"
  },
  "language_info": {
   "codemirror_mode": {
    "name": "ipython",
    "version": 3
   },
   "file_extension": ".py",
   "mimetype": "text/x-python",
   "name": "python",
   "nbconvert_exporter": "python",
   "pygments_lexer": "ipython3",
   "version": "3.7.4"
  }
 },
 "nbformat": 4,
 "nbformat_minor": 2
}
