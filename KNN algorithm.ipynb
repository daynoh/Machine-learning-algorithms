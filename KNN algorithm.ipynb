{
 "cells": [
  {
   "cell_type": "code",
   "execution_count": null,
   "metadata": {},
   "outputs": [],
   "source": [
    "'''KNN algorithm \n",
    "\n",
    "uses entire dataset in training\n",
    "\n",
    "is a simple algo that stores all the available cases and classifies \n",
    "the new data or case based on a similarity measure\n",
    "\n",
    "K in kNn is number of nearest neighbours\n",
    "\n",
    "Industrial applications\n",
    "1. Recommender systems\n",
    "2. concept search(classifying documents of similar content)\n",
    "\n",
    "\n",
    "\n",
    "Working it measures euclidiean distance or manhattan distance between new data point and \n",
    "its neighbours and classifies the point using the least distance between the neighbouring points\n",
    "'''\n",
    "\n",
    "\"\"\"\n",
    "knn from scratch\n",
    "\n",
    "1. handle data\n",
    "open the dataset from csv and split into test and train\n",
    "\n",
    "2. similarity \n",
    "calculate the distances between two data instances\n",
    "\n",
    "3 Neighbours\n",
    "\n",
    "Locate the k most similar data instances\n",
    "\n",
    "4. Response\n",
    "Generate a response from a set of data instance\n",
    "\n",
    "5. accuracy\n",
    "summarizing the accuracy  of predictions\"\"\""
   ]
  },
  {
   "cell_type": "code",
   "execution_count": null,
   "metadata": {},
   "outputs": [],
   "source": [
    "import pandas as pd\n",
    "\n",
    "df = read_csv('IRIS.csv')\n",
    "df.head()"
   ]
  },
  {
   "cell_type": "code",
   "execution_count": null,
   "metadata": {},
   "outputs": [],
   "source": []
  }
 ],
 "metadata": {
  "kernelspec": {
   "display_name": "Python 3",
   "language": "python",
   "name": "python3"
  },
  "language_info": {
   "codemirror_mode": {
    "name": "ipython",
    "version": 3
   },
   "file_extension": ".py",
   "mimetype": "text/x-python",
   "name": "python",
   "nbconvert_exporter": "python",
   "pygments_lexer": "ipython3",
   "version": "3.7.4"
  }
 },
 "nbformat": 4,
 "nbformat_minor": 2
}
