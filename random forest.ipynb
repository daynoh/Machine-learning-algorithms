{
 "cells": [
  {
   "cell_type": "code",
   "execution_count": null,
   "metadata": {},
   "outputs": [],
   "source": [
    "'''randomly select m features from T;\n",
    "where m <t\n",
    "\n",
    "For node d calculate the best split point among the m features\n",
    "\n",
    "split the node into two daughter nodes using the best split\n",
    "\n",
    "repeat first three steps until m number of nodes has been reached\n",
    " \n",
    "build your forest by repeating steps i-ib for  d number of times'''\n",
    "\n",
    "\n",
    "'''\n",
    "Most accurate learning algorithm\n",
    "works for both classification and regression problems\n",
    "runs efficiently on large databases\n",
    "requires almost no input preparation\n",
    "performs implicit feature selection(removes outliers and missing data)\n",
    "performs implicit feature selection\n",
    "can be easily grown in parallel\n",
    "methods for balancin g error in unbalanced datasets(with bias i.e 90% of data is of a particular class)'''"
   ]
  }
 ],
 "metadata": {
  "kernelspec": {
   "display_name": "Python 3",
   "language": "python",
   "name": "python3"
  },
  "language_info": {
   "codemirror_mode": {
    "name": "ipython",
    "version": 3
   },
   "file_extension": ".py",
   "mimetype": "text/x-python",
   "name": "python",
   "nbconvert_exporter": "python",
   "pygments_lexer": "ipython3",
   "version": "3.7.4"
  }
 },
 "nbformat": 4,
 "nbformat_minor": 2
}
